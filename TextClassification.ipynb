{
  "nbformat": 4,
  "nbformat_minor": 0,
  "metadata": {
    "colab": {
      "name": "TextClassification.ipynb",
      "provenance": [],
      "collapsed_sections": []
    },
    "kernelspec": {
      "name": "python3",
      "display_name": "Python 3"
    },
    "accelerator": "TPU"
  },
  "cells": [
    {
      "cell_type": "markdown",
      "metadata": {
        "id": "ldEUfdPWHhjo",
        "colab_type": "text"
      },
      "source": [
        "<h1> Trying to re-implement the given article, beside this trying out some machine learning classification algorithm </h1>\n",
        "https://realpython.com/python-keras-text-classification/"
      ]
    },
    {
      "cell_type": "code",
      "metadata": {
        "id": "MeW92FW4G8cq",
        "colab_type": "code",
        "colab": {
          "base_uri": "https://localhost:8080/",
          "height": 124
        },
        "outputId": "4798ffe5-8f99-440f-f66f-7227607bffa9"
      },
      "source": [
        "# Mounting the drive for data\n",
        "from google.colab import drive\n",
        "drive.mount('/content/drive')"
      ],
      "execution_count": null,
      "outputs": [
        {
          "output_type": "stream",
          "text": [
            "Go to this URL in a browser: https://accounts.google.com/o/oauth2/auth?client_id=947318989803-6bn6qk8qdgf4n4g3pfee6491hc0brc4i.apps.googleusercontent.com&redirect_uri=urn%3aietf%3awg%3aoauth%3a2.0%3aoob&response_type=code&scope=email%20https%3a%2f%2fwww.googleapis.com%2fauth%2fdocs.test%20https%3a%2f%2fwww.googleapis.com%2fauth%2fdrive%20https%3a%2f%2fwww.googleapis.com%2fauth%2fdrive.photos.readonly%20https%3a%2f%2fwww.googleapis.com%2fauth%2fpeopleapi.readonly\n",
            "\n",
            "Enter your authorization code:\n",
            "··········\n",
            "Mounted at /content/drive\n"
          ],
          "name": "stdout"
        }
      ]
    },
    {
      "cell_type": "code",
      "metadata": {
        "id": "b8tedT4CHW69",
        "colab_type": "code",
        "colab": {}
      },
      "source": [
        "# Importing the required libraries\n",
        "import pandas as pd\n",
        "from sklearn.feature_extraction.text import CountVectorizer\n",
        "from sklearn.model_selection import train_test_split\n",
        "from sklearn.linear_model import LogisticRegression"
      ],
      "execution_count": null,
      "outputs": []
    },
    {
      "cell_type": "markdown",
      "metadata": {
        "id": "2pWo-2xe1wa6",
        "colab_type": "text"
      },
      "source": [
        "<h1><strong> About data </strong></h1>\n",
        "<p>\n",
        "Let’s take a look at what data we have, Sentiment Labelled Sentences Data Set from the UCI Machine Learning Repository.\n",
        "This data set includes labeled reviews from IMDb, Amazon, and Yelp, Each review is marked with a score of 0 for a negative sentiment or 1 for a positive sentiment.\n",
        "</p>\n",
        "\n"
      ]
    },
    {
      "cell_type": "code",
      "metadata": {
        "id": "TMHlFKsoIgwP",
        "colab_type": "code",
        "colab": {
          "base_uri": "https://localhost:8080/",
          "height": 86
        },
        "outputId": "7568926e-78c7-4460-cf54-8dad077bfa1e"
      },
      "source": [
        "# Extract the folder into a data folder and go ahead and load the data with pandas \n",
        "filepath_dict = {'yelp' : '/content/drive/My Drive/Datasets/sentiment labelled sentences/yelp_labelled.txt',\n",
        "                 'amazon' : '/content/drive/My Drive/Datasets/sentiment labelled sentences/amazon_cells_labelled.txt',\n",
        "                 'imdb' : '/content/drive/My Drive/Datasets/sentiment labelled sentences/imdb_labelled.txt'}\n",
        "\n",
        "df_list = []\n",
        "for source, filepath in filepath_dict.items():\n",
        "  df = pd.read_csv(filepath, names=['sentence', 'label'], sep = '\\t')\n",
        "  df['source'] = source\n",
        "  df_list.append(df)\n",
        "\n",
        "df = pd.concat(df_list)\n",
        "print(df.iloc[0])"
      ],
      "execution_count": null,
      "outputs": [
        {
          "output_type": "stream",
          "text": [
            "sentence    Wow... Loved this place.\n",
            "label                              1\n",
            "source                          yelp\n",
            "Name: 0, dtype: object\n"
          ],
          "name": "stdout"
        }
      ]
    },
    {
      "cell_type": "code",
      "metadata": {
        "id": "EXPtMhWrKsTJ",
        "colab_type": "code",
        "colab": {}
      },
      "source": [
        "# Just to take a look at yelp reviews\n",
        "df_yelp = df[df['source'] == 'yelp']\n",
        "\n",
        "# Defining X and y\n",
        "sentences = df_yelp['sentence'].values\n",
        "y = df_yelp['label'].values\n",
        "\n",
        "# Spilting the data (This is just for yelp reviews)\n",
        "sentence_train, sentence_test, y_train, y_test = train_test_split(sentences, y, test_size = 0.20, random_state = 1)"
      ],
      "execution_count": null,
      "outputs": []
    },
    {
      "cell_type": "markdown",
      "metadata": {
        "id": "5fokAJxK6KpJ",
        "colab_type": "text"
      },
      "source": [
        "Now we will try out one of the common way of NLP to covert text to vector.\n",
        "CountVectorizer takes the approach of bago of words.\n",
        "\n",
        "\n",
        "This works as follows :\n",
        "\n",
        "1] Each word inside the document will be separated into tokens.\n",
        "\n",
        "2] Assigning a weight to each token proportional to the frequency with which it shows up in the document and/or corpora.\n",
        "\n",
        "3] Creating a document-term matrix with each row representing a document and each column addressing a token.\n",
        "\n",
        "Example : \n",
        "doc = ['This is Count vectorizer']\n",
        "\n",
        "       1st token = 'This'\n",
        "       2nd token = 'is' and so on....\n",
        "Then the number of times each token occures in a document is counted in case of CountVectorizer."
      ]
    },
    {
      "cell_type": "code",
      "metadata": {
        "id": "1l4MhqTvMJ8X",
        "colab_type": "code",
        "colab": {
          "base_uri": "https://localhost:8080/",
          "height": 52
        },
        "outputId": "a5382170-9cc1-48f6-8315-e88644fefe42"
      },
      "source": [
        "# fiiting the data on yelp review\n",
        "vectorizer = CountVectorizer()\n",
        "vectorizer.fit(sentence_train)\n",
        "\n",
        "X_train = vectorizer.transform(sentence_train)\n",
        "X_test = vectorizer.transform(sentence_test)\n",
        "\n",
        "X_train"
      ],
      "execution_count": null,
      "outputs": [
        {
          "output_type": "execute_result",
          "data": {
            "text/plain": [
              "<800x1777 sparse matrix of type '<class 'numpy.int64'>'\n",
              "\twith 7804 stored elements in Compressed Sparse Row format>"
            ]
          },
          "metadata": {
            "tags": []
          },
          "execution_count": 5
        }
      ]
    },
    {
      "cell_type": "markdown",
      "metadata": {
        "id": "r4XLGQn8Npzw",
        "colab_type": "text"
      },
      "source": [
        "There are some words which are insignificant so, we need to remove it.\n",
        "In order to do so, we use TF-IDF,\n",
        "\n",
        "TF - Term Frequency :\n",
        "\n",
        "     (How many times a term occures in a document)\n",
        "     tf(i, j) = n(i, j) / E(n(i, j)\n",
        "IDF - Inverse Document frequency : \n",
        "\n",
        "     How common a word is across all documents,\n",
        "     IDF(w) = log ( N/DF(i) )\n",
        "\n",
        "\n"
      ]
    },
    {
      "cell_type": "code",
      "metadata": {
        "id": "3y0DWERu2y7S",
        "colab_type": "code",
        "colab": {
          "base_uri": "https://localhost:8080/",
          "height": 52
        },
        "outputId": "d7eafce1-2b59-47a6-96ca-b35d989c5e72"
      },
      "source": [
        "# Using the TF-IDF vectorizer on the same data\n",
        "from sklearn.feature_extraction.text import TfidfVectorizer\n",
        "vec = TfidfVectorizer()\n",
        "vec.fit(sentence_train)\n",
        "\n",
        "X_train_tfidf = vec.transform(sentence_train)\n",
        "X_test_tfidf = vec.transform(sentence_test)\n",
        "\n",
        "X_train_tfidf"
      ],
      "execution_count": null,
      "outputs": [
        {
          "output_type": "execute_result",
          "data": {
            "text/plain": [
              "<501x2429 sparse matrix of type '<class 'numpy.float64'>'\n",
              "\twith 7734 stored elements in Compressed Sparse Row format>"
            ]
          },
          "metadata": {
            "tags": []
          },
          "execution_count": 9
        }
      ]
    },
    {
      "cell_type": "code",
      "metadata": {
        "id": "Y6rebw-EMndx",
        "colab_type": "code",
        "colab": {
          "base_uri": "https://localhost:8080/",
          "height": 34
        },
        "outputId": "058dc80c-69af-48ee-d28b-b6881ad388b3"
      },
      "source": [
        "# Using Logistic regression to begin with, great classification algorithm.\n",
        "# https://towardsdatascience.com/understanding-logistic-regression-using-a-simple-example-163de52ea900 - a good resource for logistic regression\n",
        "\n",
        "classifier = LogisticRegression()\n",
        "classifier.fit(X_train, y_train)\n",
        "score = classifier.score(X_test, y_test)\n",
        "\n",
        "print(f\"Accuracy : {score*100} %\")"
      ],
      "execution_count": null,
      "outputs": [
        {
          "output_type": "stream",
          "text": [
            "Accuracy : 84.0 %\n"
          ],
          "name": "stdout"
        }
      ]
    },
    {
      "cell_type": "markdown",
      "metadata": {
        "id": "aL228oSN-SLp",
        "colab_type": "text"
      },
      "source": [
        "As you can see, we got good accuracy on the yelp review with logistic regression"
      ]
    },
    {
      "cell_type": "code",
      "metadata": {
        "id": "YtC7nrbhNf9E",
        "colab_type": "code",
        "colab": {
          "base_uri": "https://localhost:8080/",
          "height": 69
        },
        "outputId": "97982490-747b-453d-e8cd-3a521d3559f9"
      },
      "source": [
        "# Now we are going to try logistic regression on IMDB and Amazon as well with CountVectorizer\n",
        "for source in df['source'].unique():\n",
        "  df_source = df[df['source'] == source]\n",
        "  sentences = df_source['sentence'].values\n",
        "  y = df_source['label'].values\n",
        "\n",
        "  sentence_train, sentence_test, y_train, y_test = train_test_split(sentences, y, test_size = 0.33, random_state = 1)\n",
        "\n",
        "  vect = CountVectorizer()\n",
        "  vect.fit(sentence_train)\n",
        "\n",
        "  X_train = vect.transform(sentence_train)\n",
        "  X_test = vect.transform(sentence_test)\n",
        "\n",
        "  classifier = LogisticRegression()\n",
        "  classifier.fit(X_train, y_train)\n",
        "  score = classifier.score(X_test, y_test)\n",
        "  print(f\"Accuracy for {source} data : {score :.4f} %\")"
      ],
      "execution_count": null,
      "outputs": [
        {
          "output_type": "stream",
          "text": [
            "Accuracy for yelp data : 0.8333 %\n",
            "Accuracy for amazon data : 0.7727 %\n",
            "Accuracy for imdb data : 0.7409 %\n"
          ],
          "name": "stdout"
        }
      ]
    },
    {
      "cell_type": "code",
      "metadata": {
        "id": "6buhhnYA8iOh",
        "colab_type": "code",
        "colab": {
          "base_uri": "https://localhost:8080/",
          "height": 69
        },
        "outputId": "9562c7b5-038b-4cb4-83bd-771d2083a624"
      },
      "source": [
        "# Now trying out logistic regression with TF-IDF\n",
        "for source in df['source'].unique():\n",
        "  df_source = df[df['source'] == source]\n",
        "  sentences = df_source['sentence'].values\n",
        "  y = df_source['label'].values\n",
        "\n",
        "  sentence_train, sentence_test, y_train, y_test = train_test_split(sentences, y, test_size = 0.33, random_state = 1)\n",
        "\n",
        "  vec = TfidfVectorizer()\n",
        "  vec.fit(sentence_train)\n",
        "\n",
        "  X_train_tfidf = vec.transform(sentence_train)\n",
        "  X_test_tfidf = vec.transform(sentence_test)\n",
        "\n",
        "  \n",
        "  classifier.fit(X_train_tfidf, y_train)\n",
        "  score = classifier.score(X_test_tfidf, y_test)\n",
        "  print(f\"Accuracy for {source} data : {score :.4f} %\")"
      ],
      "execution_count": null,
      "outputs": [
        {
          "output_type": "stream",
          "text": [
            "Accuracy for yelp data : 0.8242 %\n",
            "Accuracy for amazon data : 0.7818 %\n",
            "Accuracy for imdb data : 0.7692 %\n"
          ],
          "name": "stdout"
        }
      ]
    },
    {
      "cell_type": "markdown",
      "metadata": {
        "id": "qUxJaBu4D0XN",
        "colab_type": "text"
      },
      "source": [
        "As you can, there are not any significant changes."
      ]
    },
    {
      "cell_type": "code",
      "metadata": {
        "id": "xKB8zMGB2fHz",
        "colab_type": "code",
        "colab": {
          "base_uri": "https://localhost:8080/",
          "height": 69
        },
        "outputId": "5ba826e9-8493-4607-ab46-cba8c3e2e8a4"
      },
      "source": [
        "# Let's try out XGBoost classifier with CountVectorizer just to see, if there is any change....\n",
        "# https://towardsdatascience.com/https-medium-com-vishalmorde-xgboost-algorithm-long-she-may-rein-edd9f99be63d\n",
        "for source in df['source'].unique():\n",
        "  df_source = df[df['source'] == source]\n",
        "  sentences = df_source['sentence'].values\n",
        "  y = df_source['label'].values\n",
        "\n",
        "  sentence_train, sentence_test, y_train, y_test = train_test_split(sentences, y, test_size = 0.33, random_state = 1)\n",
        "\n",
        "  vec = CountVectorizer()\n",
        "  vec.fit(sentence_train)\n",
        "\n",
        "  X_train = vec.transform(sentence_train)\n",
        "  X_test = vec.transform(sentence_test)\n",
        "\n",
        "  # I tried hyper tuning the parameters but model does not seemed to change in terms of accuracy and hence settled with these figures for my parameters..\n",
        "  model3 = XGBClassifier(n_estimators = 200, max_depth = 3, min_child_weight = 1)\n",
        "  model3.fit(X_train, y_train)\n",
        "\n",
        "  score = model3.score(X_test, y_test)\n",
        "  print(f\"Accuracy : {score*100 : .2f} %\")"
      ],
      "execution_count": null,
      "outputs": [
        {
          "output_type": "stream",
          "text": [
            "Accuracy :  77.58 %\n",
            "Accuracy :  71.52 %\n",
            "Accuracy :  69.64 %\n"
          ],
          "name": "stdout"
        }
      ]
    },
    {
      "cell_type": "code",
      "metadata": {
        "id": "0BEdYOp2-3R6",
        "colab_type": "code",
        "colab": {
          "base_uri": "https://localhost:8080/",
          "height": 69
        },
        "outputId": "e1987b0b-10fa-4361-8ac8-d3d545f287bd"
      },
      "source": [
        "# Trying out XGBoost with TF-IDF\n",
        "for source in df['source'].unique():\n",
        "  df_source = df[df['source'] == source]\n",
        "  sentences = df_source['sentence'].values\n",
        "  y = df_source['label'].values\n",
        "\n",
        "  sentence_train, sentence_test, y_train, y_test = train_test_split(sentences, y, test_size = 0.33, random_state = 1)\n",
        "\n",
        "  vect = TfidfVectorizer()\n",
        "  vect.fit(sentence_train)\n",
        "\n",
        "  X_train_tfidf = vect.transform(sentence_train)\n",
        "  X_test_tfidf = vect.transform(sentence_test)\n",
        "\n",
        "  model4 = XGBClassifier(n_estimators=200, max_depth = 3, min_child_weight=1)\n",
        "  model4.fit(X_train_tfidf, y_train)\n",
        "\n",
        "  score = model4.score(X_test_tfidf, y_test)\n",
        "  print(f\"Accuracy : {score*100 : .2f} %\")"
      ],
      "execution_count": null,
      "outputs": [
        {
          "output_type": "stream",
          "text": [
            "Accuracy :  75.76 %\n",
            "Accuracy :  74.85 %\n",
            "Accuracy :  65.99 %\n"
          ],
          "name": "stdout"
        }
      ]
    },
    {
      "cell_type": "code",
      "metadata": {
        "id": "aSJz3cLS-Nio",
        "colab_type": "code",
        "colab": {
          "base_uri": "https://localhost:8080/",
          "height": 69
        },
        "outputId": "e2126ec1-940d-4a3d-940e-8edc261e1de7"
      },
      "source": [
        "# Trying out RandomForest with CountVectorizer\n",
        "from sklearn.ensemble import RandomForestClassifier\n",
        "model4 = RandomForestClassifier()\n",
        "\n",
        "for source in df['source'].unique():\n",
        "  df_source = df[df['source'] == source]\n",
        "  sentences = df_source['sentence'].values\n",
        "  y = df_source['label'].values\n",
        "\n",
        "  sentence_train, sentence_test, y_train, y_test = train_test_split(sentences, y, test_size = 0.33, random_state = 1)\n",
        "\n",
        "  vec = CountVectorizer()\n",
        "  vec.fit(sentence_train)\n",
        "\n",
        "  X_train = vec.transform(sentence_train)\n",
        "  X_test = vec.transform(sentence_test)\n",
        "\n",
        "  \n",
        "  model4.fit(X_train, y_train)\n",
        "\n",
        "  score = model4.score(X_test, y_test)\n",
        "  print(f\"Accuracy : {score*100 : .2f} %\")"
      ],
      "execution_count": null,
      "outputs": [
        {
          "output_type": "stream",
          "text": [
            "Accuracy :  80.91 %\n",
            "Accuracy :  76.06 %\n",
            "Accuracy :  74.49 %\n"
          ],
          "name": "stdout"
        }
      ]
    },
    {
      "cell_type": "code",
      "metadata": {
        "id": "9czG12FDAsig",
        "colab_type": "code",
        "colab": {
          "base_uri": "https://localhost:8080/",
          "height": 69
        },
        "outputId": "ed8fdac4-7754-475a-b7c1-c2e570c67e6b"
      },
      "source": [
        "# Trying out randomForest with TF-IDF..\n",
        "from sklearn.ensemble import RandomForestClassifier\n",
        "model4 = RandomForestClassifier()\n",
        "\n",
        "for source in df['source'].unique():\n",
        "  df_source = df[df['source'] == source]\n",
        "  sentences = df_source['sentence'].values\n",
        "  y = df_source['label'].values\n",
        "\n",
        "  sentence_train, sentence_test, y_train, y_test = train_test_split(sentences, y, test_size = 0.33, random_state = 1)\n",
        "\n",
        "  vect = TfidfVectorizer()\n",
        "  vect.fit(sentence_train)\n",
        "\n",
        "  X_train_tfidf = vect.transform(sentence_train)\n",
        "  X_test_tfidf = vect.transform(sentence_test)\n",
        "\n",
        "  \n",
        "  model4.fit(X_train_tfidf, y_train)\n",
        "\n",
        "  score = model4.score(X_test_tfidf, y_test)\n",
        "  print(f\"Accuracy : {score*100 : .2f} %\")"
      ],
      "execution_count": null,
      "outputs": [
        {
          "output_type": "stream",
          "text": [
            "Accuracy :  73.64 %\n",
            "Accuracy :  75.15 %\n",
            "Accuracy :  71.66 %\n"
          ],
          "name": "stdout"
        }
      ]
    },
    {
      "cell_type": "code",
      "metadata": {
        "id": "j3hQR7zOKk4R",
        "colab_type": "code",
        "colab": {
          "base_uri": "https://localhost:8080/",
          "height": 190
        },
        "outputId": "4cab8535-baeb-4cb7-d633-a978df0ee3d7"
      },
      "source": [
        "from prettytable import PrettyTable\n",
        "x = PrettyTable()\n",
        "\n",
        "x.field_names = ['Classifiers', 'Yelp data', 'Amazon data', 'IMDB data']\n",
        "\n",
        "x.add_row(['Logistic(CountVectorizer)', '83%', '77%', '74%'])\n",
        "x.add_row(['Logistic(TF-IDF)', '82%', '78%', '76%'])\n",
        "\n",
        "x.add_row(['XGBoost(CountVectorizer)', '77%', '71%', '69%'])\n",
        "x.add_row(['XGBoost(TF-IDF)', '75%', '74%', '65%'])\n",
        "\n",
        "x.add_row(['RandomForest(CountVectorizer)', '80%', '76%', '74%'])\n",
        "x.add_row(['RandomForest(TF-IDF)', '73%', '75%', '71%'])\n",
        "\n",
        "print(x)"
      ],
      "execution_count": null,
      "outputs": [
        {
          "output_type": "stream",
          "text": [
            "+-------------------------------+-----------+-------------+-----------+\n",
            "|          Classifiers          | Yelp data | Amazon data | IMDB data |\n",
            "+-------------------------------+-----------+-------------+-----------+\n",
            "|   Logistic(CountVectorizer)   |    83%    |     77%     |    74%    |\n",
            "|        Logistic(TF-IDF)       |    82%    |     78%     |    76%    |\n",
            "|    XGBoost(CountVectorizer)   |    77%    |     71%     |    69%    |\n",
            "|        XGBoost(TF-IDF)        |    75%    |     74%     |    65%    |\n",
            "| RandomForest(CountVectorizer) |    80%    |     76%     |    74%    |\n",
            "|      RandomForest(TF-IDF)     |    73%    |     75%     |    71%    |\n",
            "+-------------------------------+-----------+-------------+-----------+\n"
          ],
          "name": "stdout"
        }
      ]
    },
    {
      "cell_type": "markdown",
      "metadata": {
        "id": "iCISRVpTGsRB",
        "colab_type": "text"
      },
      "source": [
        "<strong>As we saw , logistic regression performed well compared to other algorithm...</strong>"
      ]
    },
    {
      "cell_type": "code",
      "metadata": {
        "id": "rTP62CnTSsrg",
        "colab_type": "code",
        "colab": {}
      },
      "source": [
        "# Trying some Deep learning magic, https://realpython.com/python-keras-text-classification/, Thanks to this article...\n",
        "from keras.models import Sequential\n",
        "from keras import layers\n",
        "\n",
        "input_dim = X_train.shape[1]\n",
        "model = Sequential()\n",
        "model.add(layers.Dense(10, input_dim = input_dim, activation = 'relu'))\n",
        "model.add(layers.Dense(1, activation = 'sigmoid'))"
      ],
      "execution_count": null,
      "outputs": []
    },
    {
      "cell_type": "code",
      "metadata": {
        "id": "Wf4tJbc8dYgg",
        "colab_type": "code",
        "colab": {
          "base_uri": "https://localhost:8080/",
          "height": 225
        },
        "outputId": "69aa8ada-ddc5-48e9-f259-1a7a43340954"
      },
      "source": [
        "model.compile(loss = 'binary_crossentropy', optimizer='adam', metrics=['accuracy'])\n",
        "model.summary()"
      ],
      "execution_count": null,
      "outputs": [
        {
          "output_type": "stream",
          "text": [
            "Model: \"sequential_2\"\n",
            "_________________________________________________________________\n",
            "Layer (type)                 Output Shape              Param #   \n",
            "=================================================================\n",
            "dense_3 (Dense)              (None, 10)                24300     \n",
            "_________________________________________________________________\n",
            "dense_4 (Dense)              (None, 1)                 11        \n",
            "=================================================================\n",
            "Total params: 24,311\n",
            "Trainable params: 24,311\n",
            "Non-trainable params: 0\n",
            "_________________________________________________________________\n"
          ],
          "name": "stdout"
        }
      ]
    },
    {
      "cell_type": "code",
      "metadata": {
        "id": "4yziTsmgepZm",
        "colab_type": "code",
        "colab": {}
      },
      "source": [
        "history = model.fit(X_train, y_train, epochs = 50, verbose = False, validation_data = (X_test, y_test), batch_size = 10)"
      ],
      "execution_count": null,
      "outputs": []
    },
    {
      "cell_type": "code",
      "metadata": {
        "id": "fWnd3ICies-6",
        "colab_type": "code",
        "colab": {
          "base_uri": "https://localhost:8080/",
          "height": 52
        },
        "outputId": "5bbf1da0-f03a-4e54-b45a-11d8745dec66"
      },
      "source": [
        "loss, accuracy = model.evaluate(X_train, y_train, verbose=False)\n",
        "print(\"Training Accuracy: {:.4f}\".format(accuracy))\n",
        "loss, accuracy = model.evaluate(X_test, y_test, verbose=False)\n",
        "print(\"Testing Accuracy:  {:.4f}\".format(accuracy))\n"
      ],
      "execution_count": null,
      "outputs": [
        {
          "output_type": "stream",
          "text": [
            "Training Accuracy: 0.9980\n",
            "Testing Accuracy:  0.7611\n"
          ],
          "name": "stdout"
        }
      ]
    },
    {
      "cell_type": "code",
      "metadata": {
        "id": "Y5Qt1y8oe4W7",
        "colab_type": "code",
        "colab": {}
      },
      "source": [
        "import matplotlib.pyplot as plt\n",
        "plt.style.use('ggplot')\n",
        "\n",
        "def plot_history(history):\n",
        "    acc = history.history['accuracy']\n",
        "    val_acc = history.history['val_accuracy']\n",
        "    loss = history.history['loss']\n",
        "    val_loss = history.history['val_loss']\n",
        "    x = range(1, len(acc) + 1)\n",
        "\n",
        "    plt.figure(figsize=(12, 5))\n",
        "    plt.subplot(1, 2, 1)\n",
        "    plt.plot(x, acc, 'b', label='Training acc')\n",
        "    plt.plot(x, val_acc, 'r', label='Validation acc')\n",
        "    plt.title('Training and validation accuracy')\n",
        "    plt.legend()\n",
        "    plt.subplot(1, 2, 2)\n",
        "    plt.plot(x, loss, 'b', label='Training loss')\n",
        "    plt.plot(x, val_loss, 'r', label='Validation loss')\n",
        "    plt.title('Training and validation loss')\n",
        "    plt.legend()"
      ],
      "execution_count": null,
      "outputs": []
    },
    {
      "cell_type": "code",
      "metadata": {
        "id": "ZTIM1PaynlCf",
        "colab_type": "code",
        "colab": {
          "base_uri": "https://localhost:8080/",
          "height": 337
        },
        "outputId": "09d23749-18ae-4dfd-c68e-1c9979377a3b"
      },
      "source": [
        "plot_history(history)"
      ],
      "execution_count": null,
      "outputs": [
        {
          "output_type": "display_data",
          "data": {
            "image/png": "[encoded data removed]",
            "text/plain": [
              "<Figure size 864x360 with 2 Axes>"
            ]
          },
          "metadata": {
            "tags": []
          }
        }
      ]
    },
    {
      "cell_type": "markdown",
      "metadata": {
        "id": "cdY39ATjViXl",
        "colab_type": "text"
      },
      "source": [
        ""
      ]
    },
    {
      "cell_type": "code",
      "metadata": {
        "id": "nm3Wl-LNoqNt",
        "colab_type": "code",
        "colab": {
          "base_uri": "https://localhost:8080/",
          "height": 52
        },
        "outputId": "55e64680-cba0-4c38-b1f8-b3b228b47686"
      },
      "source": [
        "from keras.preprocessing.text import Tokenizer\n",
        "tokenizer = Tokenizer(num_words = 5000)\n",
        "\n",
        "tokenizer.fit_on_texts(sentence_train)\n",
        "\n",
        "X_train = tokenizer.texts_to_sequences(sentence_train)\n",
        "X_test = tokenizer.texts_to_sequences(sentence_test)\n",
        "\n",
        "vocab_size = len(tokenizer.word_index) + 1\n",
        "\n",
        "print(sentence_train[2])\n",
        "print(X_train[2])"
      ],
      "execution_count": null,
      "outputs": [
        {
          "output_type": "stream",
          "text": [
            "Unfortunately, any virtue in this film's production work was lost on a regrettable script.  \n",
            "[303, 129, 903, 10, 6, 537, 304, 98, 11, 538, 26, 3, 904, 91]\n"
          ],
          "name": "stdout"
        }
      ]
    },
    {
      "cell_type": "code",
      "metadata": {
        "id": "W69YGw0w8PYa",
        "colab_type": "code",
        "colab": {
          "base_uri": "https://localhost:8080/",
          "height": 121
        },
        "outputId": "f1570b94-3882-4435-dcbf-03cf1f516e2d"
      },
      "source": [
        "from keras.preprocessing.sequence import pad_sequences\n",
        "\n",
        "maxlen = 100\n",
        "\n",
        "X_train = pad_sequences(X_train, padding = 'post', maxlen = maxlen)\n",
        "X_test = pad_sequences(X_test, padding = 'post', maxlen = maxlen)\n",
        "\n",
        "print(X_train[2, :])"
      ],
      "execution_count": null,
      "outputs": [
        {
          "output_type": "stream",
          "text": [
            "[303 129 903  10   6 537 304  98  11 538  26   3 904  91   0   0   0   0\n",
            "   0   0   0   0   0   0   0   0   0   0   0   0   0   0   0   0   0   0\n",
            "   0   0   0   0   0   0   0   0   0   0   0   0   0   0   0   0   0   0\n",
            "   0   0   0   0   0   0   0   0   0   0   0   0   0   0   0   0   0   0\n",
            "   0   0   0   0   0   0   0   0   0   0   0   0   0   0   0   0   0   0\n",
            "   0   0   0   0   0   0   0   0   0   0]\n"
          ],
          "name": "stdout"
        }
      ]
    },
    {
      "cell_type": "code",
      "metadata": {
        "id": "ZJXsdhWg-wHd",
        "colab_type": "code",
        "colab": {
          "base_uri": "https://localhost:8080/",
          "height": 294
        },
        "outputId": "e7d731b0-1182-4564-bb6f-42136ba2d48f"
      },
      "source": [
        "embedding_dim = 50\n",
        "model1 = Sequential()\n",
        "model1.add(layers.Embedding(input_dim=vocab_size, output_dim=embedding_dim,\n",
        "                            input_length = maxlen))\n",
        "model1.add(layers.Flatten())\n",
        "model1.add(layers.Dense(10, activation='relu'))\n",
        "model1.add(layers.Dense(1, activation='sigmoid'))\n",
        "model1.compile(optimizer = 'adam', loss = 'binary_crossentropy', metrics = ['accuracy'])\n",
        "model1.summary()"
      ],
      "execution_count": null,
      "outputs": [
        {
          "output_type": "stream",
          "text": [
            "Model: \"sequential_3\"\n",
            "_________________________________________________________________\n",
            "Layer (type)                 Output Shape              Param #   \n",
            "=================================================================\n",
            "embedding_1 (Embedding)      (None, 100, 50)           124750    \n",
            "_________________________________________________________________\n",
            "flatten_1 (Flatten)          (None, 5000)              0         \n",
            "_________________________________________________________________\n",
            "dense_5 (Dense)              (None, 10)                50010     \n",
            "_________________________________________________________________\n",
            "dense_6 (Dense)              (None, 1)                 11        \n",
            "=================================================================\n",
            "Total params: 174,771\n",
            "Trainable params: 174,771\n",
            "Non-trainable params: 0\n",
            "_________________________________________________________________\n"
          ],
          "name": "stdout"
        }
      ]
    },
    {
      "cell_type": "code",
      "metadata": {
        "id": "XdS_-jSFEGnI",
        "colab_type": "code",
        "colab": {
          "base_uri": "https://localhost:8080/",
          "height": 406
        },
        "outputId": "b503b5c2-a57c-4b10-89a3-070c7f92bd03"
      },
      "source": [
        "history = model1.fit(X_train, y_train,\n",
        "                    epochs=20,\n",
        "                    verbose=False,\n",
        "                    validation_data=(X_test, y_test),\n",
        "                    batch_size=10)\n",
        "loss, accuracy = model1.evaluate(X_train, y_train, verbose=False)\n",
        "print(\"Training Accuracy: {:.4f}\".format(accuracy))\n",
        "loss, accuracy = model1.evaluate(X_test, y_test, verbose=False)\n",
        "print(\"Testing Accuracy:  {:.4f}\".format(accuracy))\n",
        "plot_history(history)"
      ],
      "execution_count": null,
      "outputs": [
        {
          "output_type": "stream",
          "text": [
            "/usr/local/lib/python3.6/dist-packages/tensorflow/python/framework/indexed_slices.py:434: UserWarning: Converting sparse IndexedSlices to a dense Tensor of unknown shape. This may consume a large amount of memory.\n",
            "  \"Converting sparse IndexedSlices to a dense Tensor of unknown shape. \"\n"
          ],
          "name": "stderr"
        },
        {
          "output_type": "stream",
          "text": [
            "Training Accuracy: 1.0000\n",
            "Testing Accuracy:  0.7166\n"
          ],
          "name": "stdout"
        },
        {
          "output_type": "display_data",
          "data": {
            "image/png": "[encoded data removed]",
            "text/plain": [
              "<Figure size 864x360 with 2 Axes>"
            ]
          },
          "metadata": {
            "tags": []
          }
        }
      ]
    },
    {
      "cell_type": "code",
      "metadata": {
        "id": "Fvc3mZw1F7b3",
        "colab_type": "code",
        "colab": {
          "base_uri": "https://localhost:8080/",
          "height": 329
        },
        "outputId": "3277859a-0a80-4114-fe55-666da58fcff1"
      },
      "source": [
        "embedding = 100\n",
        "\n",
        "model2 = Sequential()\n",
        "\n",
        "model2.add(layers.Embedding(vocab_size, embedding_dim, input_length=maxlen))\n",
        "\n",
        "model2.add(layers.Conv1D(128, 5, activation='relu'))\n",
        "model2.add(layers.GlobalMaxPooling1D())\n",
        "model2.add(layers.Dense(10, activation='relu'))\n",
        "model2.add(layers.Dense(1, activation='sigmoid'))\n",
        "\n",
        "model2.compile(optimizer='adam', loss = 'binary_crossentropy', metrics = ['accuracy'])\n",
        "\n",
        "model2.summary()"
      ],
      "execution_count": null,
      "outputs": [
        {
          "output_type": "stream",
          "text": [
            "Model: \"sequential_4\"\n",
            "_________________________________________________________________\n",
            "Layer (type)                 Output Shape              Param #   \n",
            "=================================================================\n",
            "embedding_2 (Embedding)      (None, 100, 50)           124750    \n",
            "_________________________________________________________________\n",
            "conv1d_1 (Conv1D)            (None, 96, 128)           32128     \n",
            "_________________________________________________________________\n",
            "global_max_pooling1d_1 (Glob (None, 128)               0         \n",
            "_________________________________________________________________\n",
            "dense_7 (Dense)              (None, 10)                1290      \n",
            "_________________________________________________________________\n",
            "dense_8 (Dense)              (None, 1)                 11        \n",
            "=================================================================\n",
            "Total params: 158,179\n",
            "Trainable params: 158,179\n",
            "Non-trainable params: 0\n",
            "_________________________________________________________________\n"
          ],
          "name": "stdout"
        }
      ]
    },
    {
      "cell_type": "code",
      "metadata": {
        "id": "J2DqNlFID-7t",
        "colab_type": "code",
        "colab": {
          "base_uri": "https://localhost:8080/",
          "height": 406
        },
        "outputId": "825991a9-d87b-4b99-a2b5-35928278f23e"
      },
      "source": [
        "history2 = model2.fit(X_train, y_train,\n",
        "                    epochs=10,\n",
        "                    verbose=False,\n",
        "                    validation_data=(X_test, y_test),\n",
        "                    batch_size=10)\n",
        "loss, accuracy = model2.evaluate(X_train, y_train, verbose=False)\n",
        "print(\"Training Accuracy: {:.4f}\".format(accuracy))\n",
        "loss, accuracy = model2.evaluate(X_test, y_test, verbose=False)\n",
        "print(\"Testing Accuracy:  {:.4f}\".format(accuracy))\n",
        "plot_history(history)"
      ],
      "execution_count": null,
      "outputs": [
        {
          "output_type": "stream",
          "text": [
            "/usr/local/lib/python3.6/dist-packages/tensorflow/python/framework/indexed_slices.py:434: UserWarning: Converting sparse IndexedSlices to a dense Tensor of unknown shape. This may consume a large amount of memory.\n",
            "  \"Converting sparse IndexedSlices to a dense Tensor of unknown shape. \"\n"
          ],
          "name": "stderr"
        },
        {
          "output_type": "stream",
          "text": [
            "Training Accuracy: 1.0000\n",
            "Testing Accuracy:  0.7530\n"
          ],
          "name": "stdout"
        },
        {
          "output_type": "display_data",
          "data": {
            "image/png": "[encoded data removed]",
            "text/plain": [
              "<Figure size 864x360 with 2 Axes>"
            ]
          },
          "metadata": {
            "tags": []
          }
        }
      ]
    },
    {
      "cell_type": "code",
      "metadata": {
        "id": "YpjDHqFNEHYI",
        "colab_type": "code",
        "colab": {}
      },
      "source": [
        "def create_model(num_filters, kernel_size, vocab_size, embedding_dim, maxlen):\n",
        "    model = Sequential()\n",
        "    model.add(layers.Embedding(vocab_size, embedding_dim, input_length=maxlen))\n",
        "    model.add(layers.Conv1D(num_filters, kernel_size, activation='relu'))\n",
        "    model.add(layers.GlobalMaxPooling1D())\n",
        "    model.add(layers.Dense(10, activation='relu'))\n",
        "    model.add(layers.Dense(1, activation='sigmoid'))\n",
        "    model.compile(optimizer='adam',\n",
        "                  loss='binary_crossentropy',\n",
        "                  metrics=['accuracy'])\n",
        "    return model"
      ],
      "execution_count": null,
      "outputs": []
    },
    {
      "cell_type": "code",
      "metadata": {
        "id": "8-kvgYhRTflA",
        "colab_type": "code",
        "colab": {}
      },
      "source": [
        "param_grid = dict(num_filters=[32, 64, 128],\n",
        "                  kernel_size=[3, 5, 7],\n",
        "                  vocab_size=[5000], \n",
        "                  embedding_dim=[50],\n",
        "                  maxlen=[100])"
      ],
      "execution_count": null,
      "outputs": []
    },
    {
      "cell_type": "code",
      "metadata": {
        "id": "Wc6-uTdcTg5w",
        "colab_type": "code",
        "colab": {
          "base_uri": "https://localhost:8080/",
          "height": 624
        },
        "outputId": "9846851c-03d6-41ae-e585-1dd1cc073e79"
      },
      "source": [
        "from keras.wrappers.scikit_learn import KerasClassifier\n",
        "from sklearn.model_selection import RandomizedSearchCV\n",
        "\n",
        "# Main settings\n",
        "epochs = 20\n",
        "embedding_dim = 50\n",
        "maxlen = 100\n",
        "output_file = '/content/drive/My Drive/Datasets/sentiment labelled sentences/output.txt'\n",
        "\n",
        "# Run grid search for each source (yelp, amazon, imdb)\n",
        "for source, frame in df.groupby('source'):\n",
        "    print('Running grid search for data set :', source)\n",
        "    sentences = df['sentence'].values\n",
        "    y = df['label'].values\n",
        "\n",
        "      # Train-test split\n",
        "    sentences_train, sentences_test, y_train, y_test = train_test_split(\n",
        "        sentences, y, test_size=0.25, random_state=1000)\n",
        "\n",
        "    # Tokenize words\n",
        "    tokenizer = Tokenizer(num_words=5000)\n",
        "    tokenizer.fit_on_texts(sentences_train)\n",
        "    X_train = tokenizer.texts_to_sequences(sentences_train)\n",
        "    X_test = tokenizer.texts_to_sequences(sentences_test)\n",
        "\n",
        "    # Adding 1 because of reserved 0 index\n",
        "    vocab_size = len(tokenizer.word_index) + 1\n",
        "\n",
        "    # Pad sequences with zeros\n",
        "    X_train = pad_sequences(X_train, padding='post', maxlen=maxlen)\n",
        "    X_test = pad_sequences(X_test, padding='post', maxlen=maxlen)\n",
        "\n",
        "    # Parameter grid for grid search\n",
        "    param_grid = dict(num_filters=[32, 64, 128],\n",
        "                      kernel_size=[3, 5, 7],\n",
        "                      vocab_size=[vocab_size],\n",
        "                      embedding_dim=[embedding_dim],\n",
        "                      maxlen=[maxlen])\n",
        "    model = KerasClassifier(build_fn=create_model,\n",
        "                            epochs=epochs, batch_size=10,\n",
        "                            verbose=False)\n",
        "    grid = RandomizedSearchCV(estimator=model, param_distributions=param_grid,\n",
        "                              cv=4, verbose=1, n_iter=5)\n",
        "    grid_result = grid.fit(X_train, y_train)\n",
        "\n",
        "    # Evaluate testing set\n",
        "    test_accuracy = grid.score(X_test, y_test)\n",
        "\n",
        "    # Save and evaluate results\n",
        "    prompt = input(f'finished {source}; write to file and proceed? [y/n]')\n",
        "    if prompt.lower() not in {'y', 'true', 'yes'}:\n",
        "        break\n",
        "    with open(output_file, 'a') as f:\n",
        "        s = ('Running {} data set\\nBest Accuracy : '\n",
        "             '{:.4f}\\n{}\\nTest Accuracy : {:.4f}\\n\\n')\n",
        "        output_string = s.format(\n",
        "            source,\n",
        "            grid_result.best_score_,\n",
        "            grid_result.best_params_,\n",
        "            test_accuracy)\n",
        "        print(output_string)\n",
        "        f.write(output_string)"
      ],
      "execution_count": null,
      "outputs": [
        {
          "output_type": "stream",
          "text": [
            "Running grid search for data set : amazon\n",
            "Fitting 4 folds for each of 5 candidates, totalling 20 fits\n"
          ],
          "name": "stdout"
        },
        {
          "output_type": "stream",
          "text": [
            "[Parallel(n_jobs=1)]: Using backend SequentialBackend with 1 concurrent workers.\n",
            "/usr/local/lib/python3.6/dist-packages/tensorflow/python/framework/indexed_slices.py:434: UserWarning: Converting sparse IndexedSlices to a dense Tensor of unknown shape. This may consume a large amount of memory.\n",
            "  \"Converting sparse IndexedSlices to a dense Tensor of unknown shape. \"\n",
            "[Parallel(n_jobs=1)]: Done  20 out of  20 | elapsed:  7.1min finished\n"
          ],
          "name": "stderr"
        },
        {
          "output_type": "stream",
          "text": [
            "finished amazon; write to file and proceed? [y/n]y\n",
            "Running amazon data set\n",
            "Best Accuracy : 0.8171\n",
            "{'vocab_size': 4603, 'num_filters': 32, 'maxlen': 100, 'kernel_size': 5, 'embedding_dim': 50}\n",
            "Test Accuracy : 0.8399\n",
            "\n",
            "\n",
            "Running grid search for data set : imdb\n",
            "Fitting 4 folds for each of 5 candidates, totalling 20 fits\n"
          ],
          "name": "stdout"
        },
        {
          "output_type": "stream",
          "text": [
            "[Parallel(n_jobs=1)]: Using backend SequentialBackend with 1 concurrent workers.\n",
            "[Parallel(n_jobs=1)]: Done  20 out of  20 | elapsed:  8.1min finished\n"
          ],
          "name": "stderr"
        },
        {
          "output_type": "stream",
          "text": [
            "finished imdb; write to file and proceed? [y/n]y\n",
            "Running imdb data set\n",
            "Best Accuracy : 0.8161\n",
            "{'vocab_size': 4603, 'num_filters': 32, 'maxlen': 100, 'kernel_size': 3, 'embedding_dim': 50}\n",
            "Test Accuracy : 0.8384\n",
            "\n",
            "\n",
            "Running grid search for data set : yelp\n",
            "Fitting 4 folds for each of 5 candidates, totalling 20 fits\n"
          ],
          "name": "stdout"
        },
        {
          "output_type": "stream",
          "text": [
            "[Parallel(n_jobs=1)]: Using backend SequentialBackend with 1 concurrent workers.\n",
            "[Parallel(n_jobs=1)]: Done  20 out of  20 | elapsed:  8.3min finished\n"
          ],
          "name": "stderr"
        },
        {
          "output_type": "stream",
          "text": [
            "finished yelp; write to file and proceed? [y/n]y\n",
            "Running yelp data set\n",
            "Best Accuracy : 0.8200\n",
            "{'vocab_size': 4603, 'num_filters': 128, 'maxlen': 100, 'kernel_size': 5, 'embedding_dim': 50}\n",
            "Test Accuracy : 0.8413\n",
            "\n",
            "\n"
          ],
          "name": "stdout"
        }
      ]
    }
  ]
}